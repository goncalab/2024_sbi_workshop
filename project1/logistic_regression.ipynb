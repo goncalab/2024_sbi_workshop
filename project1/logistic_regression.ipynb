{
 "cells": [
  {
   "cell_type": "code",
   "execution_count": 1,
   "metadata": {},
   "outputs": [
    {
     "name": "stdout",
     "output_type": "stream",
     "text": [
      "Intel MKL WARNING: Support of Intel(R) Streaming SIMD Extensions 4.2 (Intel(R) SSE4.2) enabled only processors has been deprecated. Intel oneAPI Math Kernel Library 2025.0 will require Intel(R) Advanced Vector Extensions (Intel(R) AVX) instructions.\n",
      "Intel MKL WARNING: Support of Intel(R) Streaming SIMD Extensions 4.2 (Intel(R) SSE4.2) enabled only processors has been deprecated. Intel oneAPI Math Kernel Library 2025.0 will require Intel(R) Advanced Vector Extensions (Intel(R) AVX) instructions.\n"
     ]
    }
   ],
   "source": [
    "import sklearn\n",
    "from sklearn.linear_model import LogisticRegression\n",
    "import numpy as np\n",
    "import torch"
   ]
  },
  {
   "cell_type": "code",
   "execution_count": 2,
   "metadata": {},
   "outputs": [
    {
     "name": "stdout",
     "output_type": "stream",
     "text": [
      "[0.72143965]\n"
     ]
    }
   ],
   "source": [
    "p = np.random.uniform(0,1,1)\n",
    "print(p)"
   ]
  },
  {
   "cell_type": "markdown",
   "metadata": {},
   "source": [
    "## Here, we consider two ways of generating logistic regression data.\n",
    "\n",
    "\n",
    "In the first method, we randomly sample features $(X)$ and labels $(y)$ independently. The \"simulator\" then solves the logistic regression problem to get the weights $W$ given the $(X,y)$ dataset."
   ]
  },
  {
   "cell_type": "code",
   "execution_count": 3,
   "metadata": {},
   "outputs": [
    {
     "name": "stderr",
     "output_type": "stream",
     "text": [
      "/var/folders/4q/8fx0bbzx37x2pnkf3h36dsgm0000gn/T/ipykernel_40082/177878824.py:4: UserWarning: Creating a tensor from a list of numpy.ndarrays is extremely slow. Please consider converting the list to a single numpy.ndarray with numpy.array() before converting to a tensor. (Triggered internally at /Users/runner/work/pytorch/pytorch/pytorch/torch/csrc/utils/tensor_new.cpp:264.)\n",
      "  y_prior = torch.distributions.bernoulli.Bernoulli(probs=torch.Tensor([p]))\n"
     ]
    }
   ],
   "source": [
    "def prior_datasets(num_features = 20):\n",
    "    p = np.random.uniform(0,1,1)\n",
    "    X_prior = torch.distributions.MultivariateNormal(torch.zeros(num_features),torch.diag(torch.ones(num_features)))\n",
    "    y_prior = torch.distributions.bernoulli.Bernoulli(probs=torch.Tensor([p]))\n",
    "    return X_prior,y_prior\n",
    "X_prior, y_prior = prior_datasets()\n",
    "\n",
    "def simulate(X,y):\n",
    "    X = X.numpy()\n",
    "    y = y.numpy()\n",
    "    model = LogisticRegression()\n",
    "    model.fit(X,y)\n",
    "    return torch.Tensor([model.coef_])"
   ]
  },
  {
   "cell_type": "code",
   "execution_count": 4,
   "metadata": {},
   "outputs": [
    {
     "name": "stdout",
     "output_type": "stream",
     "text": [
      "torch.Size([100, 20]) torch.Size([100])\n",
      "torch.Size([1, 1, 20])\n"
     ]
    }
   ],
   "source": [
    "X = X_prior.sample((100,))\n",
    "y = y_prior.sample((100,)).squeeze()\n",
    "print(X.shape,y.shape)\n",
    "weights = simulate(X,y)\n",
    "print(weights.shape)"
   ]
  },
  {
   "cell_type": "markdown",
   "metadata": {},
   "source": [
    "### In the second way, we independently generate feature vectors $X$ and weights $W$.\n",
    "\n",
    "Given these, we can calculate the probabilities of the logistic regression model, given by:\n",
    "\\begin{equation*}\n",
    "p = \\sigma(\\mathbf{W}\\cdot \\mathbf{X})\n",
    "\\end{equation*}\n",
    "\n",
    "which we can then use to \"simulate\" the labels $y$ by sampling $y\\sim \\textit{Bernoulli}(p)$"
   ]
  },
  {
   "cell_type": "code",
   "execution_count": 5,
   "metadata": {},
   "outputs": [],
   "source": [
    "def prior_features(num_features=20):\n",
    "    X_prior = torch.distributions.MultivariateNormal(torch.zeros(num_features),torch.diag(torch.ones(num_features)))\n",
    "    return X_prior\n",
    "\n",
    "def prior_weights(num_features=20):\n",
    "    W_prior = torch.distributions.MultivariateNormal(torch.zeros(num_features),torch.diag(torch.ones(num_features)))\n",
    "    return W_prior\n",
    "\n",
    "def generate_labels(features,weights):\n",
    "    p = torch.sigmoid(features@weights.T)\n",
    "    y_dist = torch.distributions.bernoulli.Bernoulli(probs=p)\n",
    "    y = y_dist.sample()\n",
    "    return  y"
   ]
  },
  {
   "cell_type": "code",
   "execution_count": 6,
   "metadata": {},
   "outputs": [
    {
     "name": "stdout",
     "output_type": "stream",
     "text": [
      "torch.Size([100, 20])\n",
      "torch.Size([20])\n"
     ]
    }
   ],
   "source": [
    "X_prior = prior_features()\n",
    "X = X_prior.sample((100,))\n",
    "W_prior = prior_weights()\n",
    "W = W_prior.sample()\n",
    "print(X.shape)\n",
    "print(W.shape)"
   ]
  },
  {
   "cell_type": "code",
   "execution_count": 7,
   "metadata": {},
   "outputs": [
    {
     "name": "stdout",
     "output_type": "stream",
     "text": [
      "tensor([0., 1., 0., 1., 0., 1., 1., 1., 0., 1., 1., 0., 0., 1., 1., 0., 0., 1.,\n",
      "        1., 1., 0., 0., 1., 0., 0., 0., 1., 1., 0., 0., 0., 0., 1., 1., 0., 1.,\n",
      "        0., 0., 0., 1., 0., 0., 1., 1., 0., 0., 0., 1., 1., 1., 0., 1., 1., 1.,\n",
      "        0., 0., 1., 0., 1., 0., 0., 1., 1., 0., 1., 0., 0., 1., 1., 0., 0., 0.,\n",
      "        0., 1., 1., 0., 1., 1., 0., 0., 1., 1., 1., 0., 1., 0., 0., 0., 0., 1.,\n",
      "        1., 1., 0., 0., 1., 0., 1., 1., 1., 1.])\n"
     ]
    },
    {
     "name": "stderr",
     "output_type": "stream",
     "text": [
      "/var/folders/4q/8fx0bbzx37x2pnkf3h36dsgm0000gn/T/ipykernel_40082/628614593.py:10: UserWarning: The use of `x.T` on tensors of dimension other than 2 to reverse their shape is deprecated and it will throw an error in a future release. Consider `x.mT` to transpose batches of matrices or `x.permute(*torch.arange(x.ndim - 1, -1, -1))` to reverse the dimensions of a tensor. (Triggered internally at /Users/runner/work/pytorch/pytorch/pytorch/aten/src/ATen/native/TensorShape.cpp:3618.)\n",
      "  p = torch.sigmoid(features@weights.T)\n"
     ]
    }
   ],
   "source": [
    "y = generate_labels(X,W)\n",
    "print(y)"
   ]
  },
  {
   "cell_type": "code",
   "execution_count": null,
   "metadata": {},
   "outputs": [],
   "source": []
  }
 ],
 "metadata": {
  "kernelspec": {
   "display_name": "sbi-workshop",
   "language": "python",
   "name": "python3"
  },
  "language_info": {
   "codemirror_mode": {
    "name": "ipython",
    "version": 3
   },
   "file_extension": ".py",
   "mimetype": "text/x-python",
   "name": "python",
   "nbconvert_exporter": "python",
   "pygments_lexer": "ipython3",
   "version": "3.11.5"
  }
 },
 "nbformat": 4,
 "nbformat_minor": 2
}
